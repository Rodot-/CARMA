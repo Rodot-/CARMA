{
 "cells": [
  {
   "cell_type": "markdown",
   "metadata": {},
   "source": [
    "Now that we're familiar with some of the basic library functionality, we're going to dive into some abstractions that are used for managing the data.  We'll be looking primarily at the `containers` module, which contains a few wrappers and helpers for managing large data sets, in particular large numbers of target pixel files.\n"
   ]
  },
  {
   "cell_type": "code",
   "execution_count": 8,
   "metadata": {
    "collapsed": true
   },
   "outputs": [],
   "source": [
    "from utilities.containers import *"
   ]
  },
  {
   "cell_type": "markdown",
   "metadata": {},
   "source": [
    "The first thing we'll do is go over the basic data containers within the library.  The first is a wrapper for a fits hdu list in order to save a little memory when dealing with large data sets.\n",
    "\n",
    "The `BasicFitsContainer` allows us to wrap a fits hdu list to contain more minimal data about an object.  Before we can instantiate it, we need an object to work with.  Going back to our queries and downloads tutorials, we'll grab the data of an object from a local database."
   ]
  },
  {
   "cell_type": "code",
   "execution_count": 4,
   "metadata": {
    "collapsed": true
   },
   "outputs": [],
   "source": [
    "from utilities import data\n",
    "from utilities.queries import search\n",
    "from utilities.downloads import urls\n",
    "from utilities.downloads.downloader import fits_downloader"
   ]
  },
  {
   "cell_type": "code",
   "execution_count": 5,
   "metadata": {},
   "outputs": [
    {
     "name": "stdout",
     "output_type": "stream",
     "text": [
      "220463108\n"
     ]
    }
   ],
   "source": [
    "campaign = 8 # we'll stick to campagin 8 for now\n",
    "\n",
    "c8_objs = search.search_file(data.FULL_TARGET_LIST, campaign=campaign)\n",
    "\n",
    "epic_id = c8_objs.keys()[0] # we'll use the first object\n",
    "print epic_id"
   ]
  },
  {
   "cell_type": "markdown",
   "metadata": {},
   "source": [
    "The BasicFitsContainer constructor is a little interesting.  We supply a flag depending on what kind of k2 hlsp we want it to hold ('EV','VJ', or 'PIX' for EVEREST, SFF, and TPF respectively), then we give it the hdu list and fields.  As an example, we'll build a `BasicFitsContainer` from the `EVEREST` processing of our object.\n",
    "\n",
    "First we'll download our fits file, then we'll create the `BasicFitsContainer`."
   ]
  },
  {
   "cell_type": "code",
   "execution_count": 16,
   "metadata": {},
   "outputs": [
    {
     "name": "stdout",
     "output_type": "stream",
     "text": [
      "Filename: <type '_io.BytesIO'>\n",
      "No.    Name      Ver    Type      Cards   Dimensions   Format\n",
      "  0  PRIMARY       1 PrimaryHDU      29   ()      \n",
      "  1  ARRAYS        1 BinTableHDU    316   3853R x 13C   [D, D, D, D, J, D, D, D, D, D, D, D, D]   \n",
      "  2  PIXELS        1 BinTableHDU     19   3853R x 2C   [58D, 333D]   \n",
      "  3  APERTURE MASK    1 ImageHDU        54   (11, 11)   int64   \n",
      "  4  POSTAGE STAMPS    1 BinTableHDU     61   11R x 3C   [11D, 11D, 11D]   \n",
      "  5  HI RES IMAGE    1 ImageHDU        54   (110, 110)   float64   \n",
      "None\n"
     ]
    }
   ],
   "source": [
    "everest_url = urls.everest(epic_id, campaign)\n",
    "everest_hdu = next(fits_downloader([everest_url]))\n",
    "\n",
    "print everest_hdu.info()"
   ]
  },
  {
   "cell_type": "code",
   "execution_count": 17,
   "metadata": {},
   "outputs": [],
   "source": [
    "everest_bfc = BasicFitsContainer('EV', everest_hdu, 'FCOR')"
   ]
  },
  {
   "cell_type": "markdown",
   "metadata": {},
   "source": [
    "Now we'll just go through an inspect some of the attributes of the conatiner."
   ]
  },
  {
   "cell_type": "code",
   "execution_count": 18,
   "metadata": {},
   "outputs": [
    {
     "name": "stdout",
     "output_type": "stream",
     "text": [
      "[ 305123.77019247  305172.86957408  305154.59823563 ...,  304932.75049315\n",
      "  304942.14187423  304926.30150723]\n",
      "[ 2559.06835157  2559.08878378  2559.10921599 ...,  2637.73040318\n",
      "  2637.7508351   2637.77126692]\n",
      "220463108\n",
      "EVEREST\n"
     ]
    }
   ],
   "source": [
    "print everest_bfc.FCOR # the flux column\n",
    "print everest_bfc.t # the time column\n",
    "print everest_bfc.EPIC # the EPIC ID\n",
    "print everest_bfc.processing # the processing contained in the data"
   ]
  },
  {
   "cell_type": "markdown",
   "metadata": {},
   "source": [
    "The `BasicFitsContainer` objects are very... well... basic.  The idea is to hold as little info as we need for each object in a neat an accessable way.  Next we'll look at the other two flags, that is 'VJ' and 'PIX'.\n",
    "\n",
    "First, 'VJ', which is very similar to 'EV'"
   ]
  },
  {
   "cell_type": "code",
   "execution_count": 21,
   "metadata": {},
   "outputs": [
    {
     "name": "stdout",
     "output_type": "stream",
     "text": [
      "Filename: <type '_io.BytesIO'>\n",
      "No.    Name      Ver    Type      Cards   Dimensions   Format\n",
      "  0  PRIMARY       1 PrimaryHDU      25   ()      \n",
      "  1  BESTAPER      1 BinTableHDU    242   3446R x 6C   [D, D, D, D, I, J]   \n",
      "  2  CIRC_APER0    1 BinTableHDU    242   3446R x 6C   [D, D, D, D, I, J]   \n",
      "  3  CIRC_APER1    1 BinTableHDU    242   3446R x 6C   [D, D, D, D, I, J]   \n",
      "  4  CIRC_APER2    1 BinTableHDU    242   3446R x 6C   [D, D, D, D, I, J]   \n",
      "  5  CIRC_APER3    1 BinTableHDU    242   3446R x 6C   [D, D, D, D, I, J]   \n",
      "  6  CIRC_APER4    1 BinTableHDU    242   3446R x 6C   [D, D, D, D, I, J]   \n",
      "  7  CIRC_APER5    1 BinTableHDU    242   3446R x 6C   [D, D, D, D, I, J]   \n",
      "  8  CIRC_APER6    1 BinTableHDU    242   3446R x 6C   [D, D, D, D, I, J]   \n",
      "  9  CIRC_APER7    1 BinTableHDU    242   3446R x 6C   [D, D, D, D, I, J]   \n",
      " 10  CIRC_APER8    1 BinTableHDU    242   3446R x 6C   [D, D, D, D, I, J]   \n",
      " 11  CIRC_APER9    1 BinTableHDU    242   3446R x 6C   [D, D, D, D, I, J]   \n",
      " 12  PRF_APER0     1 BinTableHDU    242   3446R x 6C   [D, D, D, D, I, J]   \n",
      " 13  PRF_APER1     1 BinTableHDU    242   3446R x 6C   [D, D, D, D, I, J]   \n",
      " 14  PRF_APER2     1 BinTableHDU    242   3446R x 6C   [D, D, D, D, I, J]   \n",
      " 15  PRF_APER3     1 BinTableHDU    242   3446R x 6C   [D, D, D, D, I, J]   \n",
      " 16  PRF_APER4     1 BinTableHDU    242   3446R x 6C   [D, D, D, D, I, J]   \n",
      " 17  PRF_APER5     1 BinTableHDU    242   3446R x 6C   [D, D, D, D, I, J]   \n",
      " 18  PRF_APER6     1 BinTableHDU    242   3446R x 6C   [D, D, D, D, I, J]   \n",
      " 19  PRF_APER7     1 BinTableHDU    242   3446R x 6C   [D, D, D, D, I, J]   \n",
      " 20  PRF_APER8     1 BinTableHDU    242   3446R x 6C   [D, D, D, D, I, J]   \n",
      " 21  PRF_APER9     1 BinTableHDU    242   3446R x 6C   [D, D, D, D, I, J]   \n",
      " 22  CIRC_APER_TBL    1 ImageHDU        46   (11, 11, 10)   float32   \n",
      " 23  PRF_APER_TBL    1 ImageHDU        46   (11, 11, 10)   float32   \n",
      " 24  STACKED_IMG    1 ImageHDU        44   (11, 11)   float64   \n",
      "None\n",
      "[ 0.99890158  0.99869762  0.99859705 ...,  1.00301747  1.00302816\n",
      "  1.00318446]\n",
      "[ 2560.70292699  2560.74379122  2560.76422348 ...,  2637.68953964\n",
      "  2637.73040318  2637.7508351 ]\n",
      "220463108\n",
      "VJ\n"
     ]
    }
   ],
   "source": [
    "sff_url = urls.sff(epic_id, campaign)\n",
    "sff_hdu = next(fits_downloader([sff_url]))\n",
    "\n",
    "print sff_hdu.info()\n",
    "\n",
    "sff_bfc = BasicFitsContainer('VJ', sff_hdu, 'FCOR')\n",
    "\n",
    "print sff_bfc.FCOR # the flux column\n",
    "print sff_bfc.t # the time column\n",
    "print sff_bfc.EPIC # the EPIC ID\n",
    "print sff_bfc.processing # the processing contained in the data"
   ]
  },
  {
   "cell_type": "markdown",
   "metadata": {},
   "source": [
    "The 'PIX' flag is a little different, it contains target pixel file information, including the relative pixel indices on the Kepler CCD."
   ]
  },
  {
   "cell_type": "code",
   "execution_count": 24,
   "metadata": {},
   "outputs": [
    {
     "name": "stdout",
     "output_type": "stream",
     "text": [
      "Filename: <type '_io.BytesIO'>\n",
      "No.    Name      Ver    Type      Cards   Dimensions   Format\n",
      "  0  PRIMARY       1 PrimaryHDU      54   ()      \n",
      "  1  TARGETTABLES    1 BinTableHDU    282   3853R x 13C   [D, E, J, 121J, 121E, 121E, 121E, 121E, 121E, J, E, E, 0E]   \n",
      "  2  APERTURE      1 ImageHDU        48   (11, 11)   int32   \n",
      "None\n",
      "['TIME', 'TIMECORR', 'CADENCENO', 'RAW_CNTS', 'FLUX', 'FLUX_ERR', 'FLUX_BKG', 'FLUX_BKG_ERR', 'COSMIC_RAYS', 'QUALITY', 'POS_CORR1', 'POS_CORR2', 'RB_LEVEL']\n",
      "[[[             nan              nan   8.03227806e+00 ...,  -3.87139954e-02\n",
      "     2.25768304e+00   7.98819399e+00]\n",
      "  [             nan   9.57813454e+00   1.56565580e+01 ...,   4.55063200e+00\n",
      "     4.60757685e+00   8.15919971e+00]\n",
      "  [  2.64864182e+00   8.97050476e+00   2.21161442e+01 ...,   1.57418575e+01\n",
      "     1.63996868e+01   8.40962982e+00]\n",
      "  ..., \n",
      "  [  7.52387094e+00   5.51481628e+00   1.36842051e+01 ...,   5.04453049e+01\n",
      "     4.32998359e-01   7.11088467e+00]\n",
      "  [  1.58871007e+00   2.80957437e+00   1.50543365e+01 ...,   2.02322674e+01\n",
      "     1.83386097e+01   6.36642933e+00]\n",
      "  [  3.49441361e+00   6.55484009e+00   1.01848955e+01 ...,   1.94576778e+01\n",
      "     5.32845116e+00              nan]]\n",
      "\n",
      " [[             nan              nan   9.56625843e+00 ...,   1.55061007e+00\n",
      "    -1.35824764e-02   7.45826149e+00]\n",
      "  [             nan   1.01406288e+01   1.52445011e+01 ...,   5.50208712e+00\n",
      "     5.54361916e+00   1.01990738e+01]\n",
      "  [  2.33703446e+00   8.87687683e+00   2.04072342e+01 ...,   1.93173962e+01\n",
      "     1.80036697e+01   8.52368927e+00]\n",
      "  ..., \n",
      "  [  7.84780121e+00   6.06330585e+00   1.39054890e+01 ...,   5.39350739e+01\n",
      "     7.12599158e-01   3.94209886e+00]\n",
      "  [  1.91682315e+00   2.06723213e+00   1.78531914e+01 ...,   2.18401814e+01\n",
      "     1.86302147e+01   5.82924223e+00]\n",
      "  [  3.81868672e+00   5.81123161e+00   1.04060507e+01 ...,   1.91133614e+01\n",
      "     4.32112694e+00              nan]]\n",
      "\n",
      " [[             nan              nan   6.69935846e+00 ...,   1.19060254e+00\n",
      "     3.10427435e-02   4.94277430e+00]\n",
      "  [             nan   1.18948383e+01   1.37030888e+01 ...,   7.06425095e+00\n",
      "     6.86907244e+00   9.61291122e+00]\n",
      "  [  2.12555480e+00   8.02489376e+00   2.33752251e+01 ...,   1.76481400e+01\n",
      "     1.93471451e+01   9.23196888e+00]\n",
      "  ..., \n",
      "  [  6.36736107e+00   7.15894842e+00   1.10633812e+01 ...,   5.35687790e+01\n",
      "     2.66943383e+00   2.69100213e+00]\n",
      "  [  3.00492263e+00   5.06626892e+00   1.56628418e+01 ...,   1.95200863e+01\n",
      "     1.73750401e+01   5.25288343e+00]\n",
      "  [  2.33107948e+00   8.81089687e+00   6.89288187e+00 ...,   2.13308716e+01\n",
      "     4.37188292e+00              nan]]\n",
      "\n",
      " ..., \n",
      " [[             nan              nan   1.03414440e+00 ...,  -2.37510586e+00\n",
      "    -3.62285948e+00   3.86576867e+00]\n",
      "  [             nan   9.66766834e+00   1.71455460e+01 ...,   3.23497272e+00\n",
      "     5.05124044e+00   1.60517941e+01]\n",
      "  [  6.05701655e-02   1.12904615e+01   2.07269039e+01 ...,   1.19755898e+01\n",
      "     1.76832409e+01   7.99473095e+00]\n",
      "  ..., \n",
      "  [  4.81529713e+00   3.77255297e+00   1.36977129e+01 ...,   4.29017639e+01\n",
      "     7.38503456e+00  -7.26859522e+00]\n",
      "  [  3.67176008e+00   9.10892391e+00   2.53147259e+01 ...,   2.58512573e+01\n",
      "     2.04300861e+01   2.12237287e+00]\n",
      "  [ -1.60730374e+00   1.20916958e+01   1.13943968e+01 ...,   2.13721943e+01\n",
      "    -4.95830011e+00              nan]]\n",
      "\n",
      " [[             nan              nan   6.53790283e+00 ...,  -2.90582657e+00\n",
      "    -2.81281257e+00   6.53810310e+00]\n",
      "  [             nan   1.21105843e+01   1.50613012e+01 ...,   2.70749331e+00\n",
      "     2.52932024e+00   1.62203732e+01]\n",
      "  [ -1.88436985e+00   9.48781300e+00   2.11512718e+01 ...,   1.31479130e+01\n",
      "     1.68232117e+01   9.02906513e+00]\n",
      "  ..., \n",
      "  [  7.87491322e+00   6.19610596e+00   1.24488668e+01 ...,   4.07013435e+01\n",
      "     7.35207510e+00  -4.53005219e+00]\n",
      "  [ -3.30733871e+00   3.98646379e+00   2.15488739e+01 ...,   2.27913399e+01\n",
      "     1.61825809e+01  -1.99062079e-01]\n",
      "  [  2.31087685e+00   1.11305704e+01   1.09902830e+01 ...,   2.00156212e+01\n",
      "    -5.81566620e+00              nan]]\n",
      "\n",
      " [[             nan              nan   3.69318104e+00 ...,  -8.81825864e-01\n",
      "    -3.07827091e+00   3.80283976e+00]\n",
      "  [             nan   8.88292980e+00   1.39179401e+01 ...,   3.90361667e+00\n",
      "     1.43298376e+00   1.76615448e+01]\n",
      "  [ -1.13252498e-01   8.82318687e+00   2.16814365e+01 ...,   1.43729038e+01\n",
      "     1.74042339e+01   7.10482693e+00]\n",
      "  ..., \n",
      "  [  7.11404657e+00   5.52648640e+00   1.21377449e+01 ...,   4.18905182e+01\n",
      "     7.08275414e+00  -2.20696235e+00]\n",
      "  [ -2.38934112e+00   4.98732424e+00   1.95636368e+01 ...,   2.40138721e+01\n",
      "     2.01569481e+01  -4.30988103e-01]\n",
      "  [  2.38505101e+00   7.97208309e+00   9.83593941e+00 ...,   1.70361099e+01\n",
      "    -6.07618093e+00              nan]]]\n",
      "1045 927\n",
      "11 11\n",
      "220463108\n"
     ]
    }
   ],
   "source": [
    "tpf_url = urls.tpf(epic_id, campaign)\n",
    "tpf_hdu = next(fits_downloader([tpf_url]))\n",
    "\n",
    "print tpf_hdu.info()\n",
    "print tpf_hdu[1].data.names\n",
    "\n",
    "tpf_bfc = BasicFitsContainer('PIX', tpf_hdu)\n",
    "\n",
    "print tpf_bfc.pixels # the flux column, note the different name\n",
    "print tpf_bfc.col, tpf_bfc.row # the relative pixel coordinates on the CCD\n",
    "print tpf_bfc.m, tpf_bfc.n # the shape of the postage stamp\n",
    "print tpf_bfc.EPIC # the EPIC ID"
   ]
  },
  {
   "cell_type": "code",
   "execution_count": null,
   "metadata": {
    "collapsed": true
   },
   "outputs": [],
   "source": []
  }
 ],
 "metadata": {
  "kernelspec": {
   "display_name": "Python 2",
   "language": "python",
   "name": "python2"
  },
  "language_info": {
   "codemirror_mode": {
    "name": "ipython",
    "version": 2
   },
   "file_extension": ".py",
   "mimetype": "text/x-python",
   "name": "python",
   "nbconvert_exporter": "python",
   "pygments_lexer": "ipython2",
   "version": "2.7.14"
  }
 },
 "nbformat": 4,
 "nbformat_minor": 2
}
