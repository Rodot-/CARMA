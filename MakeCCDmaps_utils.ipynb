{
 "cells": [
  {
   "cell_type": "code",
   "execution_count": 1,
   "metadata": {
    "collapsed": true
   },
   "outputs": [],
   "source": [
    "%matplotlib inline\n",
    "\n",
    "from matplotlib.pyplot import subplots, savefig\n",
    "import richardsplot as rplot\n",
    "\n",
    "from utilities.analysis import pixellc, plotting\n",
    "from utilities.ccd import CCD\n",
    "from utilities.containers import *\n",
    "from utilities.conversions import magToFlux"
   ]
  },
  {
   "cell_type": "code",
   "execution_count": 2,
   "metadata": {
    "collapsed": true
   },
   "outputs": [],
   "source": [
    "cmap = rplot.palettable.colorbrewer.diverging.PuOr_11.mpl_colormap"
   ]
  },
  {
   "cell_type": "code",
   "execution_count": 3,
   "metadata": {
    "collapsed": true
   },
   "outputs": [],
   "source": [
    "def create_and_save_pixel_maps(gen):\n",
    "    \n",
    "    ccd = gen.ccd\n",
    "    flux_range = map(magToFlux,(50,1))\n",
    "    lc = pixellc.get_pixel_lc(gen, percentiles, flux_range=flux_range)\n",
    "    \n",
    "    #Make the Full Image Map\n",
    "    fig, ax = subplots(1,1, figsize=(16,9))\n",
    "    im = plotting.plot_pixel_lc(ax, lc[:,:,2], smooth=120, image=True,\n",
    "                          aspect='auto', cmap=cmap, vmin=-1, vmax=1)\n",
    "    plotting.format_pixel_image(ax, im, lc.shape[0])\n",
    "    ax.set_title(\"Median Pixel Light Curves M{}.{}\".format(ccd.module, ccd.channel),\n",
    "                fontsize=30)\n",
    "    ax.plot(0, 0, \"-\", label=\"M{}.{}\".format(ccd.module, ccd.channel+1))    \n",
    "    ax.legend(fontsize = 50, frameon=False, loc = 8, handlelength=0, handletextpad=0,)\n",
    "    savefig('plots/c{:02d}/Module{}Channel{}PixelMapFull.png'.format(ccd.campaign, ccd.module, ccd.channel))\n",
    "    \n",
    "    #Make the differenced image map\n",
    "    fig, ax = subplots(1,1, figsize=(16,9))\n",
    "    im = plotting.plot_pixel_lc(ax, lc[:,:,2], smooth=120, image=True,\n",
    "                          differenced=True, aspect='auto', cmap=cmap, vmin=-1, vmax=1)\n",
    "    plotting.format_pixel_image(ax, im, lc.shape[0])\n",
    "    ax.set_title(\"Differenced Median Pixel Light Curves M{}.{}\".format(ccd.module, ccd.channel),\n",
    "                fontsize=30)\n",
    "    ax.plot(0, 0, \"-\", label=\"M{}.{}\".format(ccd.module, ccd.channel+1))    \n",
    "    ax.legend(fontsize = 50, frameon=False, loc = 8, handlelength=0, handletextpad=0,)\n",
    "    savefig('plots/c{:02d}/Module{}Channel{}PixelMapDiff.png'.format(ccd.campaign, ccd.module, ccd.channel))\n",
    "    "
   ]
  },
  {
   "cell_type": "code",
   "execution_count": 4,
   "metadata": {},
   "outputs": [
    {
     "name": "stdout",
     "output_type": "stream",
     "text": [
      "/home/jackeline/Research/k2_pipeline/CARMA\n",
      "mkdir: cannot create directory ‘plots/c12/’: File exists\n"
     ]
    }
   ],
   "source": [
    "!pwd\n",
    "!mkdir plots/c12/"
   ]
  },
  {
   "cell_type": "code",
   "execution_count": 4,
   "metadata": {
    "collapsed": true
   },
   "outputs": [],
   "source": [
    "pixmapfile = \"/media/jackeline/UUI/PixelMaps/K2PixelMap_c12.hdf5\""
   ]
  },
  {
   "cell_type": "markdown",
   "metadata": {
    "collapsed": true
   },
   "source": [
    "#  Loop through"
   ]
  },
  {
   "cell_type": "code",
   "execution_count": null,
   "metadata": {},
   "outputs": [
    {
     "name": "stdout",
     "output_type": "stream",
     "text": [
      "Making CCD(module=6, channel=0, field='FLUX', campaign=12)\n"
     ]
    },
    {
     "name": "stderr",
     "output_type": "stream",
     "text": [
      "/home/jackeline/anaconda3/envs/python2/lib/python2.7/site-packages/numpy/lib/function_base.py:3858: RuntimeWarning: All-NaN slice encountered\n",
      "  r = func(a, **kwargs)\n"
     ]
    },
    {
     "name": "stdout",
     "output_type": "stream",
     "text": [
      "Making CCD(module=6, channel=1, field='FLUX', campaign=12)\n"
     ]
    }
   ],
   "source": [
    "#pixmapfile = 'K2PixelMap_Camp8_Mod6_Chan2.hdf5'\n",
    "percentiles = np.linspace(0, 100, 501)\n",
    "\n",
    "#campaigns = range(6)\n",
    "modules = range(25)\n",
    "channels = range(4)\n",
    "\n",
    "# For testing...\n",
    "campaigns = [12]\n",
    "\n",
    "\n",
    "for campaign in campaigns:\n",
    "    \n",
    "    if not os.path.isdir('plots/c{:02d}'.format(campaign)):\n",
    "        os.mkdir('plots/c{:02d}'.format(campaign))\n",
    "        \n",
    "    for module in range(6,25):\n",
    "        for channel in xrange(4):\n",
    "            \n",
    "            ccd = CCD(module=module, channel=channel, field='FLUX', campaign=campaign)\n",
    "            \n",
    "            if os.path.isfile('plots/c{:02d}/Module{}Channel{}PixelMapFull.png'.format(ccd.campaign, ccd.module, ccd.channel)):\n",
    "                continue\n",
    "            try:\n",
    "                cont = PixelMapContainer.from_hdf5(pixmapfile, ccd)\n",
    "            except:\n",
    "                try:\n",
    "                    cont = PixelMapContainer(ccd)\n",
    "                    cont.save(pixmapfile)\n",
    "                except Exception as e:\n",
    "                        print \"Could not load data for CCD: {}\".format(ccd)\n",
    "                        print e.__repr__\n",
    "                        continue\n",
    "                        \n",
    "            gen = PixMapGenerator(cont)\n",
    "            print \"Making\", ccd\n",
    "            create_and_save_pixel_maps(gen)"
   ]
  },
  {
   "cell_type": "code",
   "execution_count": null,
   "metadata": {
    "collapsed": true
   },
   "outputs": [],
   "source": []
  }
 ],
 "metadata": {
  "kernelspec": {
   "display_name": "Python 2",
   "language": "python",
   "name": "python2"
  },
  "language_info": {
   "codemirror_mode": {
    "name": "ipython",
    "version": 2
   },
   "file_extension": ".py",
   "mimetype": "text/x-python",
   "name": "python",
   "nbconvert_exporter": "python",
   "pygments_lexer": "ipython2",
   "version": "2.7.13"
  }
 },
 "nbformat": 4,
 "nbformat_minor": 2
}
