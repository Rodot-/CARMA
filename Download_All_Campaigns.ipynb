{
 "cells": [
  {
   "cell_type": "code",
   "execution_count": 1,
   "metadata": {},
   "outputs": [],
   "source": [
    "from utilities.containers import *\n",
    "from utilities.ccd import CCD"
   ]
  },
  {
   "cell_type": "code",
   "execution_count": 2,
   "metadata": {
    "collapsed": true
   },
   "outputs": [],
   "source": [
    "pix_map_file = \"data/PixelMaps/K2PixelMap.hdf5\""
   ]
  },
  {
   "cell_type": "code",
   "execution_count": null,
   "metadata": {},
   "outputs": [
    {
     "name": "stdout",
     "output_type": "stream",
     "text": [
      "Downloading\n",
      "Downloading\n",
      "Downloading\n",
      "Downloading\n",
      "Downloading\n",
      "Downloading\n",
      "Downloading\n",
      "CCD(module=2, channel=0, field='FLUX', campaign=3)\n",
      "  Writing... (Do Not Turn off Device or Stop Kernel)\n",
      "\n",
      "Saved CCD(module=2, channel=0, field='FLUX', campaign=3)\n",
      "Downloading\n"
     ]
    }
   ],
   "source": [
    "for campaign in (3,9):\n",
    "    for module in xrange(24):\n",
    "        for channel in xrange(3):\n",
    "            ccd = CCD(campaign=campaign, module=module, channel=channel, field='FLUX')\n",
    "            try:\n",
    "                cont = PixelMapContainer.from_hdf5(pix_map_file, ccd) # see if we already have the data downloaded\n",
    "            except:\n",
    "                print \"Downloading\", ccd\n",
    "                try:\n",
    "                    cont = PixelMapContainer(ccd) # try to download the data if the CCD module exists\n",
    "                except:\n",
    "                    continue\n",
    "                gen = PixMapGenerator(cont) # verifies that we actually get some data out of it\n",
    "                cont.save(pix_map_file) \n",
    "                print \"  Saved\", ccd"
   ]
  }
 ],
 "metadata": {
  "kernelspec": {
   "display_name": "Python 2",
   "language": "python",
   "name": "python2"
  },
  "language_info": {
   "codemirror_mode": {
    "name": "ipython",
    "version": 2
   },
   "file_extension": ".py",
   "mimetype": "text/x-python",
   "name": "python",
   "nbconvert_exporter": "python",
   "pygments_lexer": "ipython2",
   "version": "2.7.14"
  }
 },
 "nbformat": 4,
 "nbformat_minor": 2
}
