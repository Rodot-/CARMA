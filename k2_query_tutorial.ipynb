{
 "cells": [
  {
   "cell_type": "markdown",
   "metadata": {},
   "source": [
    "In this tutorial, we'll go over some of the functionality for searching and querying data for various objects.  We'll explore a module for searching for lists of objects from local data files, online databases, and querying MAST servers.  We'll also be using previously introduced modules to perform a bit of analysis on the objects.  In particular, the `downloads` and `k2fov` modules."
   ]
  },
  {
   "cell_type": "markdown",
   "metadata": {},
   "source": [
    "We'll start out with some of the more basic search functions.  The most basic search we can perform is one that uses a local file to list objects in a K2 campaign.  The function will rely on a target list file that comes with the library, but new ones may be downloaded from the Kepler website here: https://keplerscience.arc.nasa.gov/k2-approved-programs.html#campaign-8\n",
    "\n",
    "We use the `data` module to get names of various data files that come with the library, and the queries.search module to read them easily."
   ]
  },
  {
   "cell_type": "code",
   "execution_count": 1,
   "metadata": {
    "collapsed": true
   },
   "outputs": [
    {
     "name": "stderr",
     "output_type": "stream",
     "text": [
      "/home/rodot/anaconda2/lib/python2.7/site-packages/h5py/__init__.py:34: FutureWarning: Conversion of the second argument of issubdtype from `float` to `np.floating` is deprecated. In future, it will be treated as `np.float64 == np.dtype(float).type`.\n",
      "  from ._conv import register_converters as _register_converters\n"
     ]
    }
   ],
   "source": [
    "from utilities import data\n",
    "from utilities.queries import search"
   ]
  },
  {
   "cell_type": "markdown",
   "metadata": {},
   "source": [
    "We use a target list file that I've personally edited to fill in a few missing data points that were taken after observation.  We'll later go over how that can be done with some of the other modules in this section.\n",
    "\n",
    "The name of the constant pointing to this file in the `data` module is `FULL_TARGET_LIST`"
   ]
  },
  {
   "cell_type": "code",
   "execution_count": 2,
   "metadata": {},
   "outputs": [
    {
     "name": "stdout",
     "output_type": "stream",
     "text": [
      "/home/rodot/Documents/Research/Git-CARMA/utilities/../data/GO_all_campaigns_to_date_extra.csv\n"
     ]
    }
   ],
   "source": [
    "print data.FULL_TARGET_LIST"
   ]
  },
  {
   "cell_type": "markdown",
   "metadata": {},
   "source": [
    "We'll use the `search_file` function in the `search` module to find all campaign 8 objects.  This function will return a dictionary of EPIC IDs pointing to a tuple of (KepMag, RA, DEC) for each object."
   ]
  },
  {
   "cell_type": "code",
   "execution_count": 3,
   "metadata": {},
   "outputs": [
    {
     "name": "stdout",
     "output_type": "stream",
     "text": [
      "(220463108, (11.659, 12.5045195, 5.9456959))\n",
      "Found 29939 objects\n"
     ]
    }
   ],
   "source": [
    "c8_objs = search.search_file(data.FULL_TARGET_LIST, campaign=8)\n",
    "print c8_objs.items()[0]\n",
    "print \"Found {} objects\".format(len(c8_objs))"
   ]
  },
  {
   "cell_type": "markdown",
   "metadata": {},
   "source": [
    "Another way we can search object is by proposal.  We can use an online database of objects that have SFF processing to search for objects based on which proposal they came from.  The function takes a regular expression as the first argument to *search* by some proposal.  Giving it the input \"GO\" will search all proposals.  The function will again return a dictionary of the same structure as before."
   ]
  },
  {
   "cell_type": "code",
   "execution_count": 4,
   "metadata": {},
   "outputs": [
    {
     "name": "stdout",
     "output_type": "stream",
     "text": [
      "(220463108, (11.659, 12.50452, 5.9456959))\n",
      "Found 24137 objects\n"
     ]
    }
   ],
   "source": [
    "c8_objs_sff = search.search_proposal('GO', campaign=8)\n",
    "print c8_objs_sff.items()[0]\n",
    "print \"Found {} objects\".format(len(c8_objs_sff))"
   ]
  },
  {
   "cell_type": "markdown",
   "metadata": {},
   "source": [
    "Notice there are slightly fewer objects in this data set, we we must be careful to make sure objects that we want SFF processings for are found within this resulting dictionary."
   ]
  },
  {
   "cell_type": "markdown",
   "metadata": {},
   "source": [
    "Now, sometimes we want a little more information about a particular object or set of objects, for this we would usually go to the MAST EPIC search online and query for objects, but I've written a nice little module to do this for us in python.  Much of the module contains helpful information regarding it's own API usage, so we'll look that over first.  "
   ]
  },
  {
   "cell_type": "code",
   "execution_count": 5,
   "metadata": {
    "collapsed": true
   },
   "outputs": [],
   "source": [
    "from utilities.queries import k2"
   ]
  },
  {
   "cell_type": "markdown",
   "metadata": {},
   "source": [
    "For first instantiate a `Query` object that will allow us to obtain useful information about an object."
   ]
  },
  {
   "cell_type": "code",
   "execution_count": 6,
   "metadata": {},
   "outputs": [],
   "source": [
    "k2query = k2.Query()"
   ]
  },
  {
   "cell_type": "markdown",
   "metadata": {},
   "source": [
    "The first thing we'll do is look over the available data fields we can query.  We can print out a nicely formatted table of data fields as well as their descriptions with the `print_fields` method."
   ]
  },
  {
   "cell_type": "code",
   "execution_count": 7,
   "metadata": {},
   "outputs": [
    {
     "name": "stdout",
     "output_type": "stream",
     "text": [
      "----------------------+----------------+--------------------------+----------------------+-----------\n",
      "     Column Name      |  Column Label  |       Description        |    Examples/Valid    |   Units    \n",
      "                      |                |                          |        Values        |            \n",
      "----------------------+----------------+--------------------------+----------------------+-----------\n",
      "                      |                |     Non-unique K2 ID     |                      |            \n",
      "                      |                |       identifying        |                      |            \n",
      "                      |                |  corresponding entry in  |                      |            \n",
      "                      |                |    EPIC or the custom    |                      |            \n",
      "      ktc_k2_id       |     K2 ID      |   aperture file. Note    |     200000811 to     |  integer   \n",
      "                      |                |  multiple observations   |      251809654       |            \n",
      "                      |                |   can be made with the   |                      |            \n",
      "                      |                |   same Kepler ID. Also   |                      |            \n",
      "                      |                |   used in naming data    |                      |            \n",
      "                      |                |          files.          |                      |            \n",
      "----------------------+----------------+--------------------------+----------------------+-----------\n",
      "                      |                | Dataset name associated  |                      |            \n",
      "                      |                |   with exposure in the   |                      |            \n",
      "  sci_data_set_name   |  Dataset Name  | form ktwo[k2_id]_[timest |  KTWO200000811-C00   |   string   \n",
      "                      |                | amp]-Cnn where nn is the |                      |            \n",
      "                      |                |     Campaign number.     |                      |            \n",
      "----------------------+----------------+--------------------------+----------------------+-----------\n",
      "                      |                |    An integer number     |                      |            \n",
      "                      |                | indicating the campaign  |                      |            \n",
      "                      |                |  in which the exposure   |                      |            \n",
      "                      |                |  was made. Campaigns 9a  |                      |            \n",
      "                      |                | and 9b are designated as |                      |            \n",
      "                      |                |    numbers 91 and 92.    |                      |            \n",
      "                      |                |  Campaigns 10a and 10b   |                      |            \n",
      "     sci_campaign     |    Campaign    |   will be 101 and 102.   |       0 to 112       |  integer   \n",
      "                      |                |  Campaigns 11a and 11b   |                      |            \n",
      "                      |                |     are 111 and 112.     |                      |            \n",
      "                      |                |  Entering numbers 9, 10  |                      |            \n",
      "                      |                |  or 11 will return both  |                      |            \n",
      "                      |                |  subsets. Campaigns 12   |                      |            \n",
      "                      |                |     and 13 are also      |                      |            \n",
      "                      |                |        included.         |                      |            \n",
      "----------------------+----------------+--------------------------+----------------------+-----------\n",
      "                      |                | Type of object based on  |   examples: star,    |            \n",
      "                      |                |  EPIC values (\"star\" or  | extended, ASTEROID,  |            \n",
      "       objtype        |  Object type   |  \"extended\") and target  | COMET, CLUSTER.M80,  | substring  \n",
      "                      |                | names assigned to Custom |  and TNO.2002 GV31.  |            \n",
      "                      |                |  Aperture observations.  |    Many are null.    |            \n",
      "----------------------+----------------+--------------------------+----------------------+-----------\n",
      "                      |                |   Describes the latest   |                      |            \n",
      "     sci_data_rel     |  Data Release  |    data release for a    |       2 to 20        |   string   \n",
      "                      |                |   particular exposure.   |                      |            \n",
      "----------------------+----------------+--------------------------+----------------------+-----------\n",
      "                      |                |    Right Ascension in    |                      |            \n",
      "                      |                |    decimal degrees as    |                      |            \n",
      "        sci_ra        |   RA (J2000)   |    extracted from the    |  8.4066 to 359.5417  |     ra     \n",
      "                      |                |    ingested FITS file    |                      |            \n",
      "                      |                |         headers          |                      |            \n",
      "----------------------+----------------+--------------------------+----------------------+-----------\n",
      "                      |                |  Declination in decimal  |                      |            \n",
      "       sci_dec        |  Dec (J2000)   |  degrees (from the FITS  | -31.4001 to 28.9859  |    dec     \n",
      "                      |                | file headers of ingested |                      |            \n",
      "                      |                |          files)          |                      |            \n",
      "----------------------+----------------+--------------------------+----------------------+-----------\n",
      "                      |                |                          |   Either LC (long    |            \n",
      "   ktc_target_type    |  Target Type   | 2-character Target type  |    cadence) or SC    |  ustring   \n",
      "                      |                |                          |   (short cadence)    |            \n",
      "----------------------+----------------+--------------------------+----------------------+-----------\n",
      "                      |                |                          |   only KTL and KTS   |            \n",
      "                      |                |                          |   (i.e., long and    |            \n",
      "                      |                |                          | short cadence target |            \n",
      "                      |                |                          |   pixel files) for   |            \n",
      "                      |                |                          |  now. Starting with  |            \n",
      "                      |                | archive class in science | Campaign 3, we will  |            \n",
      "                      |                |      table used to       |  also have KLC,KSC   |            \n",
      "                      |                |   distinguish long and   |  for long and short  |            \n",
      "  sci_archive_class   | Archive Class  |   short cadence light    |    cadence light     |   string   \n",
      "                      |                | curves and target pixel  | curves. Note if both |            \n",
      "                      |                |          files           | a light curve and a  |            \n",
      "                      |                |                          |  target pixel file   |            \n",
      "                      |                |                          |   exist, or just a   |            \n",
      "                      |                |                          |   light curve file   |            \n",
      "                      |                |                          | exists, the archive  |            \n",
      "                      |                |                          | class will refer to  |            \n",
      "                      |                |                          |   the light curve.   |            \n",
      "----------------------+----------------+--------------------------+----------------------+-----------\n",
      "                      |                | Current number of known  |                      |            \n",
      "        refnum        |      Ref       | papers referencing this  |        1 to 5        |  integer   \n",
      "                      |                |         dataset.         |                      |            \n",
      "----------------------+----------------+--------------------------+----------------------+-----------\n",
      "                      |  Actual Start  | Start time from LC_START | 2014-03-12 00:18:59  |            \n",
      "    sci_start_time    |      Time      |     FITS keyword (?)     |    to 2017-12-07     |  datetime  \n",
      "                      |                |                          |       23:16:00       |            \n",
      "----------------------+----------------+--------------------------+----------------------+-----------\n",
      "                      |   Actual End   |   End time from LC_END   | 2014-05-27 16:33:30  |            \n",
      "     sci_end_time     |      Time      |       FITS keyword       |    to 2018-02-25     |  datetime  \n",
      "                      |                |                          |       12:39:22       |            \n",
      "----------------------+----------------+--------------------------+----------------------+-----------\n",
      "                      |                |     Investigation ID     |       GO0001,        |            \n",
      "                      |                |  assigned by the Kepler  | GO0001_GO0032, etc.  |            \n",
      " ktc_investigation_id | Investigation  |   project describing a   | (Note wild cards are |   string   \n",
      "                      |       ID       | particular GO or project | added automatically  |            \n",
      "                      |                |    observing program.    | before and after the |            \n",
      "                      |                |                          | user-entered ID(s).) |            \n",
      "----------------------+----------------+--------------------------+----------------------+-----------\n",
      "         pmRA         |     RA PM      |     RA proper motion     |  -3842 to 1236.9000  |   float    \n",
      "----------------------+----------------+--------------------------+----------------------+-----------\n",
      "        e_pmRA        |   RA PM Err    |     RA proper motion     |       0 to 463       |   float    \n",
      "                      |                |       uncertainty        |                      |            \n",
      "----------------------+----------------+--------------------------+----------------------+-----------\n",
      "        pmDEC         |     Dec PM     |    Dec proper motion     |  -3543.5500 to 900   |   float    \n",
      "----------------------+----------------+--------------------------+----------------------+-----------\n",
      "       e_pmDEC        |   Dec PM Err   |    Dec proper motion     |       0 to 517       |   float    \n",
      "                      |                |       uncertainty        |                      |            \n",
      "----------------------+----------------+--------------------------+----------------------+-----------\n",
      "         plx          |      Plx       | Hipparcos parallax(mas)  | -99.1600 to 336.7200 |   float    \n",
      "----------------------+----------------+--------------------------+----------------------+-----------\n",
      "        e_plx         |    Plx Err     |    Hipparcos parallax    |  0.1600 to 32.8600   |   float    \n",
      "                      |                |    uncertainty (mas)     |                      |            \n",
      "----------------------+----------------+--------------------------+----------------------+-----------\n",
      "                      |                |     U-band magnitude     |                      |            \n",
      "         umag         |     U Mag      |     accurate to 0.04     |  12.9410 to 31.3020  |   float    \n",
      "                      |                |        magnitude         |                      |            \n",
      "----------------------+----------------+--------------------------+----------------------+-----------\n",
      "        e_umag        |   U Mag Err    |     U-band magnitude     |   0.0030 to 6.5920   |   float    \n",
      "                      |                |       iuncertainty       |                      |            \n",
      "----------------------+----------------+--------------------------+----------------------+-----------\n",
      "                      |                |     B-band magnitude     |                      |            \n",
      "         bmag         |     B Mag      |     accurate to 0.04     |  0.8770 to 18.9980   |   float    \n",
      "                      |                |        magnitude         |                      |            \n",
      "----------------------+----------------+--------------------------+----------------------+-----------\n",
      "        e_bmag        |   B Mag Err    |     B-band magnitude     |   0.0100 to 1.9050   |   float    \n",
      "                      |                |       iuncertainty       |                      |            \n",
      "----------------------+----------------+--------------------------+----------------------+-----------\n",
      "                      |                |     V-band magnitude     |                      |            \n",
      "         vmag         |     V Mag      |     accurate to 0.04     |  1.0310 to 18.0040   |   float    \n",
      "                      |                |        magnitude         |                      |            \n",
      "----------------------+----------------+--------------------------+----------------------+-----------\n",
      "        e_vmag        |   V Mag Err    |     V-band magnitude     |   0.0090 to 0.9900   |   float    \n",
      "                      |                |       uncertainty        |                      |            \n",
      "----------------------+----------------+--------------------------+----------------------+-----------\n",
      "         gmag         |     G Mag      |     G-band magnitude     |  8.0720 to 28.9730   |   float    \n",
      "----------------------+----------------+--------------------------+----------------------+-----------\n",
      "        e_gmag        |   G Mag Err    |     G-band magnitude     |   0.0020 to 0.9000   |   float    \n",
      "                      |                |       uncertainty        |                      |            \n",
      "----------------------+----------------+--------------------------+----------------------+-----------\n",
      "         rmag         |     R Mag      |     R-band magnitude     |  7.3530 to 19.9990   |   float    \n",
      "----------------------+----------------+--------------------------+----------------------+-----------\n",
      "        e_rmag        |   R Mag Err    |     R-band magnitude     |   0.0020 to 0.9000   |   float    \n",
      "                      |                |       uncertainty        |                      |            \n",
      "----------------------+----------------+--------------------------+----------------------+-----------\n",
      "         imag         |     I Mag      |     I-band magnitude     |  6.4350 to 21.2630   |   float    \n",
      "----------------------+----------------+--------------------------+----------------------+-----------\n",
      "        e_imag        |   I Mag Err    |     I-band magnitude     |   0.0010 to 0.9000   |   float    \n",
      "                      |                |       uncertainty        |                      |            \n",
      "----------------------+----------------+--------------------------+----------------------+-----------\n",
      "                      |                |     Z-band magnitude     |                      |            \n",
      "         zmag         |     Z Mag      |     accurate to 0.03     |  11.6650 to 28.5290  |   float    \n",
      "                      |                |        magnitude         |                      |            \n",
      "----------------------+----------------+--------------------------+----------------------+-----------\n",
      "        e_zmag        |   Z Mag Err    |     Z-band magnitude     |   0.0020 to 3.3620   |   float    \n",
      "                      |                |       uncertainty        |                      |            \n",
      "----------------------+----------------+--------------------------+----------------------+-----------\n",
      "         jmag         |     J Mag      | 2MASS J-band magnitude.  |  4.5330 to 17.4810   |   float    \n",
      "----------------------+----------------+--------------------------+----------------------+-----------\n",
      "        e_jmag        |   J Mag Err    |  2MASS J-band magnitude  |   0.0160 to 0.2170   |   float    \n",
      "                      |                |       uncertainty.       |                      |            \n",
      "----------------------+----------------+--------------------------+----------------------+-----------\n",
      "         hmag         |     H Mag      | 2MASS H-band magnitude.  |  4.2380 to 16.6030   |   float    \n",
      "----------------------+----------------+--------------------------+----------------------+-----------\n",
      "        e_hmag        |   H Mag Err    |  2MASS H-band magnitude  |   0.0140 to 0.2180   |   float    \n",
      "                      |                |       uncertainty.       |                      |            \n",
      "----------------------+----------------+--------------------------+----------------------+-----------\n",
      "         kmag         |     K Mag      | 2MASS K-band magnitude.  |     4.1470 to 16     |   float    \n",
      "----------------------+----------------+--------------------------+----------------------+-----------\n",
      "        e_kmag        |   K Mag Err    |  2MASS K-band magnitude  |   0.0130 to 0.2170   |   float    \n",
      "                      |                |       uncertainty.       |                      |            \n",
      "----------------------+----------------+--------------------------+----------------------+-----------\n",
      "                      |                |  Kepler magnitude. See   |                      |            \n",
      "          kp          |    KEP Mag     |  the EPIC manual to see  |  4.5520 to 25.1400   |   float    \n",
      "                      |                |  how it is calculated.   |                      |            \n",
      "----------------------+----------------+--------------------------+----------------------+-----------\n",
      "                      |                |  Kepler magnitude flag   |                      |            \n",
      "                      |                | describes how the Kepler | J, BV, JHK, and gri  |            \n",
      "       kepflag        |    Kep Flag    |  magnitude is defined.   |  are the only non-   |   string   \n",
      "                      |                | See the EPIC manual for  |     null values      |            \n",
      "                      |                |    more information.     |                      |            \n",
      "----------------------+----------------+--------------------------+----------------------+-----------\n",
      "         hip          |     Hip ID     |  Hipparcos catalog ID,   |    2736 to 117644    |  integer   \n",
      "----------------------+----------------+--------------------------+----------------------+-----------\n",
      "         tyc          |     Tyc ID     |    Tycho-2 catalog ID    | example: 1877-1406-1 |   string   \n",
      "----------------------+----------------+--------------------------+----------------------+-----------\n",
      "         sdss         |    SDSS ID     |   SDSS DR9 identifier    |  currently all null  |   string   \n",
      "----------------------+----------------+--------------------------+----------------------+-----------\n",
      "         ucac         |    UCAC ID     |    UCAC-4 catalog ID     | example: 567-025402  |   string   \n",
      "----------------------+----------------+--------------------------+----------------------+-----------\n",
      "                      |                |   2MASS catalog ID, a    |                      |            \n",
      "                      |                | sexagesimal, equatorial  |       example:       |            \n",
      "       twoMass        |    2MASS ID    |  position-based source   |   06162816+2318506   |   string   \n",
      "                      |                |    name in the form:     |                      |            \n",
      "                      |                | hhmmssss+ddmmsss[ABC...] |                      |            \n",
      "----------------------+----------------+--------------------------+----------------------+-----------\n",
      "         mflg         |   2MASS Flag   | string containing 2MASS  |       example:       |   string   \n",
      "                      |                |          flags.          | AAA-222-111-000-0-0  |            \n",
      "----------------------+----------------+--------------------------+----------------------+-----------\n",
      "                      |   Processing   |  Date file was ingested  | 2014-11-05 15:16:50  |            \n",
      " sci_generation_date  |      Date      |       into archive       |    to 2018-05-24     |  datetime  \n",
      "                      |                |                          |       20:58:49       |            \n",
      "----------------------+----------------+--------------------------+----------------------+-----------\n",
      "                      |                | The ratio of target flux |                      |            \n",
      "                      |                | to total flux in optimal |                      |            \n",
      "                      |                | aperture. This value is  |                      |            \n",
      "     sci_crowdsap     |    crowding    | not to be confused with  |        0 to 1        |   float    \n",
      "                      |                |   the Crowding values    |                      |            \n",
      "                      |                |   given on the Target    |                      |            \n",
      "                      |                |  Search page which give  |                      |            \n",
      "                      |                |    predictive values.    |                      |            \n",
      "----------------------+----------------+--------------------------+----------------------+-----------\n",
      "  sci_contamination   | contamination  | 1.0 - the crowding value |        0 to 1        |   float    \n",
      "----------------------+----------------+--------------------------+----------------------+-----------\n",
      "                      |                |  The fraction of target  |                      |            \n",
      "                      |                |   flux obtained in the   |                      |            \n",
      "                      |                |     optimal aperture     |                      |            \n",
      "                      |                |     averaged for the     |                      |            \n",
      "                      |                | specified data. The flux |                      |            \n",
      "                      |                |  fraction in any given   |                      |            \n",
      "     sci_flfrcsap     | flux fraction  | cadence will differ from |        0 to 1        |   float    \n",
      "                      |                |  this mean value. This   |                      |            \n",
      "                      |                |    value is not to be    |                      |            \n",
      "                      |                |  confused with the Flux  |                      |            \n",
      "                      |                | Fraction value given on  |                      |            \n",
      "                      |                |  the Target Search page  |                      |            \n",
      "                      |                | which gives a predictive |                      |            \n",
      "                      |                |         values.          |                      |            \n",
      "----------------------+----------------+--------------------------+----------------------+-----------\n",
      "                      |                |     The RMS Combined     |                      |            \n",
      "                      |                | Differential Photometric |                      |            \n",
      "                      |                |  Precision (CDPP) time   |                      |            \n",
      "                      |                | series calculated by the |      12.3590 to      |            \n",
      "     sci_Cdpp3_0      |     cdpp3      |  Kepler pipeline for a   |     93163495424      |   float    \n",
      "                      |                |   transit duration of    |                      |            \n",
      "                      |                |   length 3-hrs over a    |                      |            \n",
      "                      |                | single quarter, in units |                      |            \n",
      "                      |                |  of parts per million.   |                      |            \n",
      "----------------------+----------------+--------------------------+----------------------+-----------\n",
      "                      |                |       RMS Combined       |                      |            \n",
      "                      |                | Differential Photometric |                      |            \n",
      "     sci_Cdpp6_0      |     cdpp6      |   Precision (CDPP) on    |      10.8896 to      |   float    \n",
      "                      |                | 6.0-hour time scales in  |     596638040064     |            \n",
      "                      |                |    units of parts per    |                      |            \n",
      "                      |                |         million.         |                      |            \n",
      "----------------------+----------------+--------------------------+----------------------+-----------\n",
      "                      |                |       RMS Combined       |                      |            \n",
      "                      |                | Differential Photometric |                      |            \n",
      "     sci_Cdpp12_0     |     cdpp12     |   Precision (CDPP) on    |      8.3478 to       |   float    \n",
      "                      |                |  12-hour time scales in  |     586351116288     |            \n",
      "                      |                |    units of parts per    |                      |            \n",
      "                      |                |         million.         |                      |            \n",
      "----------------------+----------------+--------------------------+----------------------+-----------\n",
      "      sci_module      |     Module     |      Module number.      |       2 to 24        |  integer   \n",
      "----------------------+----------------+--------------------------+----------------------+-----------\n",
      "      sci_output      |     Output     |      Ouput number.       |        1 to 4        |  integer   \n",
      "----------------------+----------------+--------------------------+----------------------+-----------\n",
      "     sci_channel      |    Channel     |     Channel number.      |       1 to 84        |  integer   \n",
      "----------------------+----------------+--------------------------+----------------------+-----------\n",
      "         prox         |    Nearest     |   Distance to nearest    |  0.1000 to 200.4000  |   float    \n",
      "                      |    Neighbor    | 2MASS neighbor (arcsec)  |                      |            \n",
      "----------------------+----------------+--------------------------+----------------------+-----------\n",
      "                      |                |    string containing     |                      |            \n",
      "                      |                | NOMAD-1 identifiers (for |                      |            \n",
      "        nomad         |    Nomad ID    |       sources with       |  currently all null  |   string   \n",
      "                      |                |   supplemented NOMAD1    |                      |            \n",
      "                      |                |     proper motions)      |                      |            \n",
      "----------------------+----------------+--------------------------+----------------------+-----------\n",
      "                      |   High-Level   |   Number of High Level   |                      |            \n",
      "       k2_hlsp        |    Science     | Science Products (HLSP)  |       3 to 36        |  integer   \n",
      "                      |    Products    |   available from MAST    |                      |            \n",
      "----------------------+----------------+--------------------------+----------------------+-----------\n"
     ]
    }
   ],
   "source": [
    "k2query.print_fields()"
   ]
  },
  {
   "cell_type": "markdown",
   "metadata": {},
   "source": [
    "So let's do a simple example.  We'll query information about the first object we found from our search functions.  We'll just use the EPIC ID which corresponds to the `ktc_k2_id` column name in our query.  We pass a query to the `query_MAST` method by passing keyword arguments corresponding to query columns of strings representing a data value. The method will return a generator that iterates over input lines of a csv file returned by the query.  If an object cannot be found, the generator will be empty. More information about query subission syntax can be found here: https://archive.stsci.edu/vo/mast_services.html"
   ]
  },
  {
   "cell_type": "code",
   "execution_count": 8,
   "metadata": {},
   "outputs": [
    {
     "name": "stdout",
     "output_type": "stream",
     "text": [
      "220463108\n",
      "['K2 ID', 'Dataset Name', 'Campaign', 'Object type', 'RA (J2000)', 'Dec (J2000)', 'Target Type', 'Ref', 'Actual Start Time', 'Actual End Time', 'Investigation ID', 'R Mag', 'R Mag Err', 'J Mag', 'J Mag Err', 'KEP Mag', 'Kep Flag', 'Hip ID', 'Tyc ID', 'SDSS ID', 'UCAC ID', '2MASS ID', '2MASS Flag', 'Module', 'Output', 'Channel', 'High-Level Science Products']\n",
      "['integer', 'string', 'integer', 'substring', 'ra', 'dec', 'ustring', 'integer', 'datetime', 'datetime', 'string', 'float', 'float', 'float', 'float', 'float', 'string', 'integer', 'string', 'string', 'string', 'string', 'string', 'integer', 'integer', 'integer', 'integer']\n",
      "['220463108', 'KTWO220463108-C08', '8', 'STAR', '00 50 01.086', '+05 56 44.51', 'LC', '', '2016-01-04 13:31:07', '2016-03-23 06:33:52', 'GO8032_GO8033_GO8068_GO8077', '11.645', '0.020', '10.772', '0.026', '11.659', 'gri', '', '', '', '480-001238', '00500109+0556446', 'AAA-222-111-000-0-0', '19', '2', '66', '13']\n"
     ]
    }
   ],
   "source": [
    "epic_id = str(c8_objs.keys()[0])\n",
    "print epic_id\n",
    "\n",
    "query_result = k2query.query_MAST(ktc_k2_id=epic_id, sci_campaign=8)\n",
    "for line in query_result:\n",
    "    print line"
   ]
  },
  {
   "cell_type": "markdown",
   "metadata": {},
   "source": [
    "We see that the lines returned contain a header, a data type, and the actual data regarding the object.  We can see that now in addition to the magnitude and coordinates, we also have observation times, information from other surveys, and information about which HLSPs are available for the objects.\n",
    "\n",
    "Now let's try a few objects so we can practice doing a larger search.  We'll use the first 10 EPIC IDs this time.  This time we pass a comma separated list of objects as our keyword argument."
   ]
  },
  {
   "cell_type": "code",
   "execution_count": 9,
   "metadata": {},
   "outputs": [
    {
     "name": "stdout",
     "output_type": "stream",
     "text": [
      "220463108,220200969,220332050,220200979,220594200,229228971,220594217,220332083,220594185,220332091\n",
      "['K2 ID', 'Dataset Name', 'Campaign', 'Object type', 'RA (J2000)', 'Dec (J2000)', 'Target Type', 'Ref', 'Actual Start Time', 'Actual End Time', 'Investigation ID', 'R Mag', 'R Mag Err', 'J Mag', 'J Mag Err', 'KEP Mag', 'Kep Flag', 'Hip ID', 'Tyc ID', 'SDSS ID', 'UCAC ID', '2MASS ID', '2MASS Flag', 'Module', 'Output', 'Channel', 'High-Level Science Products']\n",
      "['integer', 'string', 'integer', 'substring', 'ra', 'dec', 'ustring', 'integer', 'datetime', 'datetime', 'string', 'float', 'float', 'float', 'float', 'float', 'string', 'integer', 'string', 'string', 'string', 'string', 'string', 'integer', 'integer', 'integer', 'integer']\n",
      "['220200969', 'KTWO220200969-C08', '8', 'STAR', '00 50 02.101', '+00 01 49.47', 'LC', '', '2016-01-04 13:31:07', '2016-03-23 06:33:52', 'GO8031', '', '', '14.320', '0.030', '15.483', 'JHK', '', '', '', '451-001053', '00500211+0001496', 'AAA-222-111-000-0-0', '22', '4', '76', '13']\n",
      "['220200979', 'KTWO220200979-C08', '8', 'STAR', '00 56 40.250', '+00 01 50.38', 'LC', '', '2016-01-04 13:31:07', '2016-03-23 06:33:52', 'GO8032', '15.730', '0.030', '13.100', '0.026', '15.510', 'gri', '', '', '', '451-001198', '00564024+0001503', 'AAA-222-111-000-0-0', '22', '2', '74', '13']\n",
      "['220332050', 'KTWO220332050-C08', '8', 'EXTENDED', '00 53 04.988', '+03 19 08.72', 'LC', '', '2016-01-04 13:31:07', '2016-03-23 06:33:52', 'GO8070', '15.936', '0.004', '15.796', '0.131', '16.010', 'gri', '', '', '7717-301-6-0418-0088', '', '00530498+0319087', 'BBB-222-111-000-0-0', '18', '4', '64', '17']\n",
      "['220332083', 'KTWO220332083-C08', '8', 'STAR', '01 29 28.799', '+03 19 11.12', 'LC', '', '2016-01-04 13:31:07', '2016-03-23 06:33:52', 'GO8042', '11.090', '0.060', '9.483', '0.023', '11.121', 'gri', '', '', '', '467-001949', '01292879+0319111', 'AAA-222-111-000-0-0', '6', '2', '14', '13']\n",
      "['220332091', 'KTWO220332091-C08', '8', 'STAR', '01 12 37.033', '+03 19 11.62', 'LC', '', '2016-01-04 13:31:07', '2016-03-23 06:33:52', 'GO8031', '', '', '13.461', '0.027', '14.577', 'JHK', '', '', '', '467-001621', '01123704+0319117', 'AAA-222-111-cc0-0-0', '12', '2', '38', '13']\n",
      "['220463108', 'KTWO220463108-C08', '8', 'STAR', '00 50 01.086', '+05 56 44.51', 'LC', '', '2016-01-04 13:31:07', '2016-03-23 06:33:52', 'GO8032_GO8033_GO8068_GO8077', '11.645', '0.020', '10.772', '0.026', '11.659', 'gri', '', '', '', '480-001238', '00500109+0556446', 'AAA-222-111-000-0-0', '19', '2', '66', '13']\n",
      "['220594185', 'KTWO220594185-C08', '8', 'STAR', '01 00 28.321', '+08 53 48.29', 'LC', '', '2016-01-04 13:31:07', '2016-03-23 06:33:52', 'GO8032', '15.435', '0.030', '13.278', '0.026', '15.423', 'gri', '', '', '7767-301-1-0036-0070', '495-001491', '01002832+0853484', 'AAA-222-111-000-0-0', '14', '4', '48', '13']\n",
      "['220594200', 'KTWO220594200-C08', '8', 'STAR', '00 50 57.037', '+08 53 48.91', 'LC', '', '2016-01-04 13:31:07', '2016-03-23 06:33:52', 'GO8042', '13.765', '0.010', '12.216', '0.026', '13.742', 'gri', '', '', '', '495-001258', '00505704+0853488', 'AAA-222-111-000-0-0', '15', '2', '50', '13']\n",
      "['220594217', 'KTWO220594217-C08', '8', 'STAR', '00 42 43.171', '+08 53 50.19', 'LC', '', '2016-01-04 13:31:07', '2016-03-23 06:33:52', 'GO8042', '16.639', '0.005', '15.305', '0.046', '16.642', 'gri', '', '', '7784-301-1-0267-0036', '', '00424317+0853501', 'AAA-222-111-000-0-0', '20', '4', '72', '13']\n",
      "['229228971', 'KTWO229228971-C08', '8', '', '01 13 00.707', '+01 00 32.73', 'LC', '', '2016-01-04 13:31:07', '2016-03-23 06:33:52', 'GO8052', '', '', '', '', '19.549', '', '', '', '', '', '', '', '11', '1', '33', '13']\n"
     ]
    }
   ],
   "source": [
    "epic_ids = ','.join(map(str, c8_objs.keys()[:10]))\n",
    "print epic_ids\n",
    "\n",
    "query_result = k2query.query_MAST(ktc_k2_id=epic_ids, sci_campaign=8)\n",
    "for line in query_result:\n",
    "    print line"
   ]
  },
  {
   "cell_type": "markdown",
   "metadata": {},
   "source": [
    "Now we'll try a more general query.  We'll search for objects near a K2 field of view.  We'll go back to using the `k2fov` module to find the bounding box of a field, query objects within the box, then narrow down our list to object that were within the field of the CCD modules."
   ]
  },
  {
   "cell_type": "code",
   "execution_count": 10,
   "metadata": {
    "collapsed": true
   },
   "outputs": [],
   "source": [
    "from utilities import k2fov"
   ]
  },
  {
   "cell_type": "code",
   "execution_count": 11,
   "metadata": {},
   "outputs": [
    {
     "name": "stdout",
     "output_type": "stream",
     "text": [
      "(13.21342773732006, 24.337723771084242, -2.6967994617941984, 8.354398995491927)\n"
     ]
    }
   ],
   "source": [
    "c8fov = k2fov.Field(8)\n",
    "bounding_box = c8fov.bounding_box # given (top, right, bottom, left)\n",
    "print bounding_box"
   ]
  },
  {
   "cell_type": "code",
   "execution_count": 12,
   "metadata": {},
   "outputs": [
    {
     "name": "stdout",
     "output_type": "stream",
     "text": [
      "8.35439899549..24.3377237711\n",
      "-2.69679946179..13.2134277373\n",
      "25002\n"
     ]
    }
   ],
   "source": [
    "ra_bounds = \"{}..{}\".format(bounding_box[3], bounding_box[1])\n",
    "dec_bounds = \"{}..{}\".format(bounding_box[2], bounding_box[0])\n",
    "\n",
    "print ra_bounds\n",
    "print dec_bounds\n",
    "\n",
    "# we'll make it a list so we can index it\n",
    "query_result = list(k2query.query_MAST(sci_ra=ra_bounds, sci_dec=dec_bounds, sci_campaign=8))\n",
    "\n",
    "print len(query_result)"
   ]
  },
  {
   "cell_type": "markdown",
   "metadata": {},
   "source": [
    "So, there's a bit of a problem here.  MAST will only allow us to retrieve up to 25000 data points at a time.  This means we have to usually split up our queries into smaller ones and combine them later into a full list of points.  One way that we can do this is by searching smaller bounding boxes, for example, splitting up the bounding box recursively with a quad tree."
   ]
  },
  {
   "cell_type": "code",
   "execution_count": 13,
   "metadata": {},
   "outputs": [
    {
     "name": "stdout",
     "output_type": "stream",
     "text": [
      "Queried ra=8.35439899549..16.3460613833, dec=-2.69679946179..13.2134277373\n",
      "  Found 16789 objects\n",
      "Queried ra=16.3460613833..24.3377237711, dec=-2.69679946179..13.2134277373\n",
      "  Found 13213 objects\n",
      "Found 30002 objects!\n"
     ]
    }
   ],
   "source": [
    "query_result = []\n",
    "top, right, bottom, left = c8fov.bounding_box\n",
    "\n",
    "def query_bounds(top, right, bottom, left, split='ra'):\n",
    "    '''recursively build the list if a query returns 25000 objects'''\n",
    "    \n",
    "    ra_bounds = \"{}..{}\".format(left, right)\n",
    "    dec_bounds = \"{}..{}\".format(bottom, top)\n",
    "    query_result = list(k2query.query_MAST(sci_ra=ra_bounds, sci_dec=dec_bounds, sci_campaign=8))[2:]\n",
    "    \n",
    "    if len(query_result) == 25000: # too many objects returned\n",
    "        \n",
    "        if split == 'ra': # left right splitting\n",
    "            dx = (right-left)/2\n",
    "            dy = 0\n",
    "            split = 'dec'\n",
    "            \n",
    "        elif split == 'dec': # top bottom splitting\n",
    "            dx = 0\n",
    "            dy = (top-bottom)/2\n",
    "            split = 'ra'\n",
    "            \n",
    "        return query_bounds(top-dy, right-dx, bottom, left, split=split) + \\\n",
    "                query_bounds(top, right, bottom+dy, left+dx, split=split) # add the two queries together\n",
    "    \n",
    "    print \"Queried ra={}, dec={}\".format(ra_bounds, dec_bounds)\n",
    "    print \"  Found {} objects\".format(len(query_result))\n",
    "    return query_result\n",
    "        \n",
    "query_result = query_bounds(top, right, bottom, left)\n",
    "print \"Found {} objects!\".format(len(query_result))"
   ]
  },
  {
   "cell_type": "markdown",
   "metadata": {},
   "source": [
    "Now we'll further narrow down our objects to those that appear on the K2 campaign 8 field of view.  If you remember from the k2fov tutorial, a module and channel pair of (0,0) means the object does not lie within the field.  Since RA and DEC are the 4th and 5th columns respectively, we'll grab those columns for our coordinates.  As in the k2fov tutorial, we'll use astropy to convert to degrees.  As a note, astropy coordinates is pretty slow, so this may take some time to run."
   ]
  },
  {
   "cell_type": "code",
   "execution_count": null,
   "metadata": {},
   "outputs": [],
   "source": [
    "from astropy import units\n",
    "from astropy.coordinates import SkyCoord\n",
    "\n",
    "c8_fov_objs = []\n",
    "coords_deg = {'in':[],'out':[]} # we'll hold onto the coordinates of the objects in and out of the field\n",
    "for line in query_result:\n",
    "    raw_coord = ' '.join(line[4:6])\n",
    "    coord = SkyCoord(raw_coord, unit=(units.hourangle, units.deg))\n",
    "    ra, dec = coord.ra.degree, coord.dec.degree\n",
    "    if c8fov.test_point(ra, dec) != (0,0): # is the object within a module?\n",
    "        c8_fov_objs.append(line)\n",
    "        coords_deg['in'].append((ra,dec))\n",
    "    else:\n",
    "        coords_deg['out'].append((ra,dec))\n",
    "        \n",
    "print \"Found {} out of {} objects in campaign 8 field of view\".format(len(c8_fov_objs), len(query_result))"
   ]
  },
  {
   "cell_type": "markdown",
   "metadata": {},
   "source": [
    "Nearly all of our objects were in the field of view!  We can take a look at where they are by plotting them on top of the field."
   ]
  },
  {
   "cell_type": "code",
   "execution_count": null,
   "metadata": {
    "collapsed": true
   },
   "outputs": [],
   "source": [
    "%matplotlib inline\n",
    "from matplotlib.pyplot import subplots\n",
    "import richardsplot as rplot"
   ]
  },
  {
   "cell_type": "code",
   "execution_count": null,
   "metadata": {},
   "outputs": [],
   "source": [
    "\n",
    "fig, ax = subplots(1,1, figsize=(12,12))\n",
    "c8fov.plot_field(ax)\n",
    "\n",
    "ras, decs = zip(*coords_deg['in'])\n",
    "ax.plot(ras, decs, ls=' ', ms=1, marker='.', label='In Field')\n",
    "\n",
    "ras, decs = zip(*coords_deg['out'])\n",
    "ax.plot(ras, decs, ls=' ', ms=5, marker='.', label='Out of Field')\n",
    "\n",
    "ax.set_xlabel('RA')\n",
    "ax.set_ylabel('DEC')\n",
    "\n",
    "ax.legend()"
   ]
  }
 ],
 "metadata": {
  "kernelspec": {
   "display_name": "Python 2",
   "language": "python",
   "name": "python2"
  },
  "language_info": {
   "codemirror_mode": {
    "name": "ipython",
    "version": 2
   },
   "file_extension": ".py",
   "mimetype": "text/x-python",
   "name": "python",
   "nbconvert_exporter": "python",
   "pygments_lexer": "ipython2",
   "version": "2.7.14"
  }
 },
 "nbformat": 4,
 "nbformat_minor": 2
}
